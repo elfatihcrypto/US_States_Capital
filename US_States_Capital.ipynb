{
 "cells": [
  {
   "cell_type": "markdown",
   "metadata": {},
   "source": [
    "### US States Capital"
   ]
  },
  {
   "cell_type": "code",
   "execution_count": 1,
   "metadata": {},
   "outputs": [],
   "source": [
    "import pandas as pd\n",
    "\n",
    "# data source url from wikipedia\n",
    "url = 'https://en.wikipedia.org/wiki/List_of_states_and_territories_of_the_United_States'\n"
   ]
  },
  {
   "cell_type": "code",
   "execution_count": 2,
   "metadata": {},
   "outputs": [],
   "source": [
    "# dataFrame\n",
    "df = pd.read_html(url)"
   ]
  },
  {
   "cell_type": "code",
   "execution_count": 3,
   "metadata": {},
   "outputs": [
    {
     "data": {
      "text/html": [
       "<div>\n",
       "<style scoped>\n",
       "    .dataframe tbody tr th:only-of-type {\n",
       "        vertical-align: middle;\n",
       "    }\n",
       "\n",
       "    .dataframe tbody tr th {\n",
       "        vertical-align: top;\n",
       "    }\n",
       "\n",
       "    .dataframe thead tr th {\n",
       "        text-align: left;\n",
       "    }\n",
       "</style>\n",
       "<table border=\"1\" class=\"dataframe\">\n",
       "  <thead>\n",
       "    <tr>\n",
       "      <th></th>\n",
       "      <th colspan=\"2\" halign=\"left\">Flag, name &amp;postal abbreviation[12]</th>\n",
       "      <th colspan=\"2\" halign=\"left\">Cities</th>\n",
       "      <th>Ratificationor admission[C]</th>\n",
       "      <th>Population[D][14]</th>\n",
       "      <th colspan=\"2\" halign=\"left\">Total area[15]</th>\n",
       "      <th colspan=\"2\" halign=\"left\">Land area[15]</th>\n",
       "      <th colspan=\"2\" halign=\"left\">Water area[15]</th>\n",
       "      <th>Numberof Reps.</th>\n",
       "    </tr>\n",
       "    <tr>\n",
       "      <th></th>\n",
       "      <th>Flag, name &amp;postal abbreviation[12]</th>\n",
       "      <th>Flag, name &amp;postal abbreviation[12].1</th>\n",
       "      <th>Capital</th>\n",
       "      <th>Largest[16]</th>\n",
       "      <th>Ratificationor admission[C]</th>\n",
       "      <th>Population[D][14]</th>\n",
       "      <th>mi2</th>\n",
       "      <th>km2</th>\n",
       "      <th>mi2</th>\n",
       "      <th>km2</th>\n",
       "      <th>mi2</th>\n",
       "      <th>km2</th>\n",
       "      <th>Numberof Reps.</th>\n",
       "    </tr>\n",
       "  </thead>\n",
       "  <tbody>\n",
       "    <tr>\n",
       "      <th>0</th>\n",
       "      <td>Alabama</td>\n",
       "      <td>AL</td>\n",
       "      <td>Montgomery</td>\n",
       "      <td>Birmingham</td>\n",
       "      <td>Dec 14, 1819</td>\n",
       "      <td>4903185</td>\n",
       "      <td>52420</td>\n",
       "      <td>135767</td>\n",
       "      <td>50645</td>\n",
       "      <td>131171</td>\n",
       "      <td>1775</td>\n",
       "      <td>4597</td>\n",
       "      <td>7</td>\n",
       "    </tr>\n",
       "    <tr>\n",
       "      <th>1</th>\n",
       "      <td>Alaska</td>\n",
       "      <td>AK</td>\n",
       "      <td>Juneau</td>\n",
       "      <td>Anchorage</td>\n",
       "      <td>Jan 3, 1959</td>\n",
       "      <td>731545</td>\n",
       "      <td>665384</td>\n",
       "      <td>1723337</td>\n",
       "      <td>570641</td>\n",
       "      <td>1477953</td>\n",
       "      <td>94743</td>\n",
       "      <td>245384</td>\n",
       "      <td>1</td>\n",
       "    </tr>\n",
       "    <tr>\n",
       "      <th>2</th>\n",
       "      <td>Arizona</td>\n",
       "      <td>AZ</td>\n",
       "      <td>Phoenix</td>\n",
       "      <td>Phoenix</td>\n",
       "      <td>Feb 14, 1912</td>\n",
       "      <td>7278717</td>\n",
       "      <td>113990</td>\n",
       "      <td>295234</td>\n",
       "      <td>113594</td>\n",
       "      <td>294207</td>\n",
       "      <td>396</td>\n",
       "      <td>1026</td>\n",
       "      <td>9</td>\n",
       "    </tr>\n",
       "  </tbody>\n",
       "</table>\n",
       "</div>"
      ],
      "text/plain": [
       "  Flag, name &postal abbreviation[12]                                        \\\n",
       "  Flag, name &postal abbreviation[12] Flag, name &postal abbreviation[12].1   \n",
       "0                             Alabama                                    AL   \n",
       "1                              Alaska                                    AK   \n",
       "2                             Arizona                                    AZ   \n",
       "\n",
       "       Cities             Ratificationor admission[C] Population[D][14]  \\\n",
       "      Capital Largest[16] Ratificationor admission[C] Population[D][14]   \n",
       "0  Montgomery  Birmingham                Dec 14, 1819           4903185   \n",
       "1      Juneau   Anchorage                 Jan 3, 1959            731545   \n",
       "2     Phoenix     Phoenix                Feb 14, 1912           7278717   \n",
       "\n",
       "  Total area[15]          Land area[15]          Water area[15]          \\\n",
       "             mi2      km2           mi2      km2            mi2     km2   \n",
       "0          52420   135767         50645   131171           1775    4597   \n",
       "1         665384  1723337        570641  1477953          94743  245384   \n",
       "2         113990   295234        113594   294207            396    1026   \n",
       "\n",
       "  Numberof Reps.  \n",
       "  Numberof Reps.  \n",
       "0              7  \n",
       "1              1  \n",
       "2              9  "
      ]
     },
     "execution_count": 3,
     "metadata": {},
     "output_type": "execute_result"
    }
   ],
   "source": [
    "df = df[1]\n",
    "df.head(3)"
   ]
  },
  {
   "cell_type": "code",
   "execution_count": 4,
   "metadata": {},
   "outputs": [
    {
     "data": {
      "text/plain": [
       "(50, 13)"
      ]
     },
     "execution_count": 4,
     "metadata": {},
     "output_type": "execute_result"
    }
   ],
   "source": [
    "df.shape"
   ]
  },
  {
   "cell_type": "code",
   "execution_count": 5,
   "metadata": {},
   "outputs": [
    {
     "data": {
      "text/plain": [
       "Index(['Flag, name &postal abbreviation[12]',\n",
       "       'Flag, name &postal abbreviation[12]', 'Cities', 'Cities',\n",
       "       'Ratificationor admission[C]', 'Population[D][14]', 'Total area[15]',\n",
       "       'Total area[15]', 'Land area[15]', 'Land area[15]', 'Water area[15]',\n",
       "       'Water area[15]', 'Numberof Reps.'],\n",
       "      dtype='object')"
      ]
     },
     "execution_count": 5,
     "metadata": {},
     "output_type": "execute_result"
    }
   ],
   "source": [
    "df.columns.droplevel(1)"
   ]
  },
  {
   "cell_type": "code",
   "execution_count": 6,
   "metadata": {},
   "outputs": [
    {
     "data": {
      "text/plain": [
       "Index(['Flag, name &postal abbreviation[12]',\n",
       "       'Flag, name &postal abbreviation[12].1', 'Capital', 'Largest[16]',\n",
       "       'Ratificationor admission[C]', 'Population[D][14]', 'mi2', 'km2', 'mi2',\n",
       "       'km2', 'mi2', 'km2', 'Numberof Reps.'],\n",
       "      dtype='object')"
      ]
     },
     "execution_count": 6,
     "metadata": {},
     "output_type": "execute_result"
    }
   ],
   "source": [
    "df.columns.droplevel(0)"
   ]
  },
  {
   "cell_type": "code",
   "execution_count": 7,
   "metadata": {},
   "outputs": [
    {
     "data": {
      "text/html": [
       "<div>\n",
       "<style scoped>\n",
       "    .dataframe tbody tr th:only-of-type {\n",
       "        vertical-align: middle;\n",
       "    }\n",
       "\n",
       "    .dataframe tbody tr th {\n",
       "        vertical-align: top;\n",
       "    }\n",
       "\n",
       "    .dataframe thead th {\n",
       "        text-align: right;\n",
       "    }\n",
       "</style>\n",
       "<table border=\"1\" class=\"dataframe\">\n",
       "  <thead>\n",
       "    <tr style=\"text-align: right;\">\n",
       "      <th></th>\n",
       "      <th>Flag, name &amp;postal abbreviation[12]</th>\n",
       "      <th>Flag, name &amp;postal abbreviation[12].1</th>\n",
       "      <th>Capital</th>\n",
       "      <th>Largest[16]</th>\n",
       "      <th>Ratificationor admission[C]</th>\n",
       "      <th>Population[D][14]</th>\n",
       "      <th>mi2</th>\n",
       "      <th>km2</th>\n",
       "      <th>mi2</th>\n",
       "      <th>km2</th>\n",
       "      <th>mi2</th>\n",
       "      <th>km2</th>\n",
       "      <th>Numberof Reps.</th>\n",
       "    </tr>\n",
       "  </thead>\n",
       "  <tbody>\n",
       "    <tr>\n",
       "      <th>0</th>\n",
       "      <td>Alabama</td>\n",
       "      <td>AL</td>\n",
       "      <td>Montgomery</td>\n",
       "      <td>Birmingham</td>\n",
       "      <td>Dec 14, 1819</td>\n",
       "      <td>4903185</td>\n",
       "      <td>52420</td>\n",
       "      <td>135767</td>\n",
       "      <td>50645</td>\n",
       "      <td>131171</td>\n",
       "      <td>1775</td>\n",
       "      <td>4597</td>\n",
       "      <td>7</td>\n",
       "    </tr>\n",
       "    <tr>\n",
       "      <th>1</th>\n",
       "      <td>Alaska</td>\n",
       "      <td>AK</td>\n",
       "      <td>Juneau</td>\n",
       "      <td>Anchorage</td>\n",
       "      <td>Jan 3, 1959</td>\n",
       "      <td>731545</td>\n",
       "      <td>665384</td>\n",
       "      <td>1723337</td>\n",
       "      <td>570641</td>\n",
       "      <td>1477953</td>\n",
       "      <td>94743</td>\n",
       "      <td>245384</td>\n",
       "      <td>1</td>\n",
       "    </tr>\n",
       "    <tr>\n",
       "      <th>2</th>\n",
       "      <td>Arizona</td>\n",
       "      <td>AZ</td>\n",
       "      <td>Phoenix</td>\n",
       "      <td>Phoenix</td>\n",
       "      <td>Feb 14, 1912</td>\n",
       "      <td>7278717</td>\n",
       "      <td>113990</td>\n",
       "      <td>295234</td>\n",
       "      <td>113594</td>\n",
       "      <td>294207</td>\n",
       "      <td>396</td>\n",
       "      <td>1026</td>\n",
       "      <td>9</td>\n",
       "    </tr>\n",
       "  </tbody>\n",
       "</table>\n",
       "</div>"
      ],
      "text/plain": [
       "  Flag, name &postal abbreviation[12] Flag, name &postal abbreviation[12].1  \\\n",
       "0                             Alabama                                    AL   \n",
       "1                              Alaska                                    AK   \n",
       "2                             Arizona                                    AZ   \n",
       "\n",
       "      Capital Largest[16] Ratificationor admission[C]  Population[D][14]  \\\n",
       "0  Montgomery  Birmingham                Dec 14, 1819            4903185   \n",
       "1      Juneau   Anchorage                 Jan 3, 1959             731545   \n",
       "2     Phoenix     Phoenix                Feb 14, 1912            7278717   \n",
       "\n",
       "      mi2      km2     mi2      km2    mi2     km2  Numberof Reps.  \n",
       "0   52420   135767   50645   131171   1775    4597               7  \n",
       "1  665384  1723337  570641  1477953  94743  245384               1  \n",
       "2  113990   295234  113594   294207    396    1026               9  "
      ]
     },
     "execution_count": 7,
     "metadata": {},
     "output_type": "execute_result"
    }
   ],
   "source": [
    "df.columns = df.columns.droplevel(0)\n",
    "df.head(3)"
   ]
  },
  {
   "cell_type": "code",
   "execution_count": 8,
   "metadata": {},
   "outputs": [
    {
     "data": {
      "text/plain": [
       "Index(['Flag, name &postal abbreviation[12]',\n",
       "       'Flag, name &postal abbreviation[12].1', 'Capital', 'Largest[16]',\n",
       "       'Ratificationor admission[C]', 'Population[D][14]', 'mi2', 'km2', 'mi2',\n",
       "       'km2', 'mi2', 'km2', 'Numberof Reps.'],\n",
       "      dtype='object')"
      ]
     },
     "execution_count": 8,
     "metadata": {},
     "output_type": "execute_result"
    }
   ],
   "source": [
    "df.columns"
   ]
  },
  {
   "cell_type": "markdown",
   "metadata": {},
   "source": [
    "### Columns rename"
   ]
  },
  {
   "cell_type": "code",
   "execution_count": 9,
   "metadata": {},
   "outputs": [],
   "source": [
    "# method 1 rename specific columns\n",
    "# df.rename(columns={'Flag, name &postal abbreviation[12]':'State_name', 'Flag, name &postal abbreviation[12].1':'Abbrev'}, inplace=True)\n",
    "# df.head(1)"
   ]
  },
  {
   "cell_type": "code",
   "execution_count": 10,
   "metadata": {},
   "outputs": [
    {
     "data": {
      "text/html": [
       "<div>\n",
       "<style scoped>\n",
       "    .dataframe tbody tr th:only-of-type {\n",
       "        vertical-align: middle;\n",
       "    }\n",
       "\n",
       "    .dataframe tbody tr th {\n",
       "        vertical-align: top;\n",
       "    }\n",
       "\n",
       "    .dataframe thead th {\n",
       "        text-align: right;\n",
       "    }\n",
       "</style>\n",
       "<table border=\"1\" class=\"dataframe\">\n",
       "  <thead>\n",
       "    <tr style=\"text-align: right;\">\n",
       "      <th></th>\n",
       "      <th>State_name</th>\n",
       "      <th>State_Abbrev</th>\n",
       "      <th>Capital_city</th>\n",
       "      <th>Largest_city</th>\n",
       "      <th>Ratificationor_admission</th>\n",
       "      <th>Population</th>\n",
       "      <th>Total_area_mi2</th>\n",
       "      <th>Total_area_km2</th>\n",
       "      <th>Land_area_mi2</th>\n",
       "      <th>Land_area_km2</th>\n",
       "      <th>Water_area_mi2</th>\n",
       "      <th>Water_area_km2</th>\n",
       "      <th>No_Reps</th>\n",
       "    </tr>\n",
       "  </thead>\n",
       "  <tbody>\n",
       "    <tr>\n",
       "      <th>0</th>\n",
       "      <td>Alabama</td>\n",
       "      <td>AL</td>\n",
       "      <td>Montgomery</td>\n",
       "      <td>Birmingham</td>\n",
       "      <td>Dec 14, 1819</td>\n",
       "      <td>4903185</td>\n",
       "      <td>52420</td>\n",
       "      <td>135767</td>\n",
       "      <td>50645</td>\n",
       "      <td>131171</td>\n",
       "      <td>1775</td>\n",
       "      <td>4597</td>\n",
       "      <td>7</td>\n",
       "    </tr>\n",
       "    <tr>\n",
       "      <th>1</th>\n",
       "      <td>Alaska</td>\n",
       "      <td>AK</td>\n",
       "      <td>Juneau</td>\n",
       "      <td>Anchorage</td>\n",
       "      <td>Jan 3, 1959</td>\n",
       "      <td>731545</td>\n",
       "      <td>665384</td>\n",
       "      <td>1723337</td>\n",
       "      <td>570641</td>\n",
       "      <td>1477953</td>\n",
       "      <td>94743</td>\n",
       "      <td>245384</td>\n",
       "      <td>1</td>\n",
       "    </tr>\n",
       "    <tr>\n",
       "      <th>2</th>\n",
       "      <td>Arizona</td>\n",
       "      <td>AZ</td>\n",
       "      <td>Phoenix</td>\n",
       "      <td>Phoenix</td>\n",
       "      <td>Feb 14, 1912</td>\n",
       "      <td>7278717</td>\n",
       "      <td>113990</td>\n",
       "      <td>295234</td>\n",
       "      <td>113594</td>\n",
       "      <td>294207</td>\n",
       "      <td>396</td>\n",
       "      <td>1026</td>\n",
       "      <td>9</td>\n",
       "    </tr>\n",
       "  </tbody>\n",
       "</table>\n",
       "</div>"
      ],
      "text/plain": [
       "  State_name State_Abbrev Capital_city Largest_city Ratificationor_admission  \\\n",
       "0    Alabama           AL   Montgomery   Birmingham             Dec 14, 1819   \n",
       "1     Alaska           AK       Juneau    Anchorage              Jan 3, 1959   \n",
       "2    Arizona           AZ      Phoenix      Phoenix             Feb 14, 1912   \n",
       "\n",
       "   Population  Total_area_mi2  Total_area_km2  Land_area_mi2  Land_area_km2  \\\n",
       "0     4903185           52420          135767          50645         131171   \n",
       "1      731545          665384         1723337         570641        1477953   \n",
       "2     7278717          113990          295234         113594         294207   \n",
       "\n",
       "   Water_area_mi2  Water_area_km2  No_Reps  \n",
       "0            1775            4597        7  \n",
       "1           94743          245384        1  \n",
       "2             396            1026        9  "
      ]
     },
     "execution_count": 10,
     "metadata": {},
     "output_type": "execute_result"
    }
   ],
   "source": [
    "# another method rename all\n",
    "new_col = ['State_name', 'State_Abbrev', 'Capital_city', 'Largest_city', 'Ratificationor_admission', 'Population', 'Total_area_mi2', 'Total_area_km2', 'Land_area_mi2', 'Land_area_km2', 'Water_area_mi2', 'Water_area_km2', 'No_Reps']\n",
    "df.columns = new_col\n",
    "df.head(3)"
   ]
  },
  {
   "cell_type": "markdown",
   "metadata": {},
   "source": [
    "### Filter State"
   ]
  },
  {
   "cell_type": "code",
   "execution_count": 11,
   "metadata": {},
   "outputs": [],
   "source": [
    "selected_state = df['State_name']"
   ]
  },
  {
   "cell_type": "code",
   "execution_count": 12,
   "metadata": {},
   "outputs": [
    {
     "data": {
      "application/vnd.jupyter.widget-view+json": {
       "model_id": "dfa6ec9babca4277b8fe7d881d0b95ba",
       "version_major": 2,
       "version_minor": 0
      },
      "text/plain": [
       "Dropdown(description='State Name:', options=('Alabama', 'Alaska', 'Arizona', 'Arkansas', 'California', 'Colora…"
      ]
     },
     "metadata": {},
     "output_type": "display_data"
    }
   ],
   "source": [
    "# Select State\n",
    "import ipywidgets as wg\n",
    "from IPython.display import display\n",
    "\n",
    "## Add dropdown list\n",
    "\n",
    "State = wg.widgets.Dropdown(\n",
    "    options= selected_state ,\n",
    "    value='Alabama',\n",
    "    description='State Name:',\n",
    "    disabled=False,)\n",
    "State"
   ]
  },
  {
   "cell_type": "code",
   "execution_count": 13,
   "metadata": {},
   "outputs": [
    {
     "data": {
      "text/html": [
       "<div>\n",
       "<style scoped>\n",
       "    .dataframe tbody tr th:only-of-type {\n",
       "        vertical-align: middle;\n",
       "    }\n",
       "\n",
       "    .dataframe tbody tr th {\n",
       "        vertical-align: top;\n",
       "    }\n",
       "\n",
       "    .dataframe thead th {\n",
       "        text-align: right;\n",
       "    }\n",
       "</style>\n",
       "<table border=\"1\" class=\"dataframe\">\n",
       "  <thead>\n",
       "    <tr style=\"text-align: right;\">\n",
       "      <th></th>\n",
       "      <th>State_name</th>\n",
       "      <th>State_Abbrev</th>\n",
       "      <th>Capital_city</th>\n",
       "      <th>Largest_city</th>\n",
       "      <th>Ratificationor_admission</th>\n",
       "      <th>Population</th>\n",
       "      <th>Total_area_mi2</th>\n",
       "      <th>Total_area_km2</th>\n",
       "      <th>Land_area_mi2</th>\n",
       "      <th>Land_area_km2</th>\n",
       "      <th>Water_area_mi2</th>\n",
       "      <th>Water_area_km2</th>\n",
       "      <th>No_Reps</th>\n",
       "    </tr>\n",
       "  </thead>\n",
       "  <tbody>\n",
       "    <tr>\n",
       "      <th>4</th>\n",
       "      <td>California</td>\n",
       "      <td>CA</td>\n",
       "      <td>Sacramento</td>\n",
       "      <td>Los Angeles</td>\n",
       "      <td>Sep 9, 1850</td>\n",
       "      <td>39512223</td>\n",
       "      <td>163695</td>\n",
       "      <td>423967</td>\n",
       "      <td>155779</td>\n",
       "      <td>403466</td>\n",
       "      <td>7916</td>\n",
       "      <td>20501</td>\n",
       "      <td>53</td>\n",
       "    </tr>\n",
       "  </tbody>\n",
       "</table>\n",
       "</div>"
      ],
      "text/plain": [
       "   State_name State_Abbrev Capital_city Largest_city Ratificationor_admission  \\\n",
       "4  California           CA   Sacramento  Los Angeles              Sep 9, 1850   \n",
       "\n",
       "   Population  Total_area_mi2  Total_area_km2  Land_area_mi2  Land_area_km2  \\\n",
       "4    39512223          163695          423967         155779         403466   \n",
       "\n",
       "   Water_area_mi2  Water_area_km2  No_Reps  \n",
       "4            7916           20501       53  "
      ]
     },
     "execution_count": 13,
     "metadata": {},
     "output_type": "execute_result"
    }
   ],
   "source": [
    "selected_state = f'{State.value}'\n",
    "selected_state\n",
    "\n",
    "filt1 = df['State_name'] == selected_state\n",
    "df[filt1].head(3)"
   ]
  },
  {
   "cell_type": "markdown",
   "metadata": {},
   "source": [
    "### Selected columns & filter the capital"
   ]
  },
  {
   "cell_type": "code",
   "execution_count": 14,
   "metadata": {},
   "outputs": [],
   "source": [
    "df2 = df[['State_name', 'State_Abbrev', 'Capital_city', 'Largest_city']]"
   ]
  },
  {
   "cell_type": "code",
   "execution_count": 15,
   "metadata": {},
   "outputs": [
    {
     "data": {
      "text/html": [
       "<div>\n",
       "<style scoped>\n",
       "    .dataframe tbody tr th:only-of-type {\n",
       "        vertical-align: middle;\n",
       "    }\n",
       "\n",
       "    .dataframe tbody tr th {\n",
       "        vertical-align: top;\n",
       "    }\n",
       "\n",
       "    .dataframe thead th {\n",
       "        text-align: right;\n",
       "    }\n",
       "</style>\n",
       "<table border=\"1\" class=\"dataframe\">\n",
       "  <thead>\n",
       "    <tr style=\"text-align: right;\">\n",
       "      <th></th>\n",
       "      <th>State_name</th>\n",
       "      <th>State_Abbrev</th>\n",
       "      <th>Capital_city</th>\n",
       "      <th>Largest_city</th>\n",
       "    </tr>\n",
       "  </thead>\n",
       "  <tbody>\n",
       "    <tr>\n",
       "      <th>4</th>\n",
       "      <td>California</td>\n",
       "      <td>CA</td>\n",
       "      <td>Sacramento</td>\n",
       "      <td>Los Angeles</td>\n",
       "    </tr>\n",
       "  </tbody>\n",
       "</table>\n",
       "</div>"
      ],
      "text/plain": [
       "   State_name State_Abbrev Capital_city Largest_city\n",
       "4  California           CA   Sacramento  Los Angeles"
      ]
     },
     "execution_count": 15,
     "metadata": {},
     "output_type": "execute_result"
    }
   ],
   "source": [
    "filt1 = df2['State_name'] == selected_state\n",
    "df2[filt1].head(3)"
   ]
  },
  {
   "cell_type": "code",
   "execution_count": 16,
   "metadata": {},
   "outputs": [],
   "source": [
    "df2.set_index('State_name', inplace=True)\n",
    "selected_capital = df2.loc[selected_state, 'Capital_city']\n"
   ]
  },
  {
   "cell_type": "markdown",
   "metadata": {},
   "source": [
    "### Marker, State Capital on Map"
   ]
  },
  {
   "cell_type": "code",
   "execution_count": 17,
   "metadata": {},
   "outputs": [
    {
     "data": {
      "application/vnd.jupyter.widget-view+json": {
       "model_id": "855c04a333fe472788f43af9afb0079e",
       "version_major": 2,
       "version_minor": 0
      },
      "text/plain": [
       "Map(center=[38.5815719, -121.4943996], controls=(ZoomControl(options=['position', 'zoom_in_text', 'zoom_in_tit…"
      ]
     },
     "metadata": {},
     "output_type": "display_data"
    }
   ],
   "source": [
    "from ipyleaflet import Map, Marker\n",
    "# install geocoder first from python.org python package index\n",
    "import geocoder\n",
    "\n",
    "# location address\n",
    "location = geocoder.osm(selected_capital)\n",
    "# to view location details use location.json\n",
    "\n",
    "# latitude and longitude of location\n",
    "latlng = [location.lat, location.lng]\n",
    "\n",
    "# create map\n",
    "Capital_map = Map(center=latlng)\n",
    "\n",
    "# marker\n",
    "marker = Marker(location=latlng, title=selected_capital)\n",
    "Capital_map.add_layer(marker)\n",
    "\n",
    "# display map\n",
    "Capital_map"
   ]
  }
 ],
 "metadata": {
  "kernelspec": {
   "display_name": "Python 3",
   "language": "python",
   "name": "python3"
  },
  "language_info": {
   "codemirror_mode": {
    "name": "ipython",
    "version": 3
   },
   "file_extension": ".py",
   "mimetype": "text/x-python",
   "name": "python",
   "nbconvert_exporter": "python",
   "pygments_lexer": "ipython3",
   "version": "3.7.6"
  }
 },
 "nbformat": 4,
 "nbformat_minor": 4
}
